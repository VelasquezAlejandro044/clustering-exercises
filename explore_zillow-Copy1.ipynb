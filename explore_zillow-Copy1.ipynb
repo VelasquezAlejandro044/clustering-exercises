{
 "cells": [
  {
   "cell_type": "code",
   "execution_count": 1,
   "id": "37fd1a5d",
   "metadata": {},
   "outputs": [],
   "source": [
    "import numpy as np\n",
    "import pandas as pd\n",
    "import matplotlib.pyplot as plt\n",
    "import seaborn as sns\n",
    "\n",
    "from sklearn.model_selection import train_test_split\n",
    "from sklearn.preprocessing import MinMaxScaler\n",
    "\n",
    "from wrangle_zillow import wrangle_zillow as wz \n",
    "\n",
    "from scipy import stats\n",
    "alpha = 0.5"
   ]
  },
  {
   "cell_type": "markdown",
   "id": "3b31a13e",
   "metadata": {},
   "source": [
    "1 Ask at least 5 questions about the data, keeping in mind that your target variable is logerror. e.g. Is logerror significantly different for properties in LA County vs Orange County vs Ventura County?"
   ]
  },
  {
   "cell_type": "code",
   "execution_count": 2,
   "id": "9d6a373f",
   "metadata": {
    "scrolled": true
   },
   "outputs": [
    {
     "name": "stderr",
     "output_type": "stream",
     "text": [
      "/opt/homebrew/anaconda3/lib/python3.8/site-packages/IPython/core/interactiveshell.py:3357: DtypeWarning: Columns (64) have mixed types.Specify dtype option on import or set low_memory=False.\n",
      "  if (await self.run_code(code, result,  async_=asy)):\n"
     ]
    },
    {
     "data": {
      "text/html": [
       "<div>\n",
       "<style scoped>\n",
       "    .dataframe tbody tr th:only-of-type {\n",
       "        vertical-align: middle;\n",
       "    }\n",
       "\n",
       "    .dataframe tbody tr th {\n",
       "        vertical-align: top;\n",
       "    }\n",
       "\n",
       "    .dataframe thead th {\n",
       "        text-align: right;\n",
       "    }\n",
       "</style>\n",
       "<table border=\"1\" class=\"dataframe\">\n",
       "  <thead>\n",
       "    <tr style=\"text-align: right;\">\n",
       "      <th></th>\n",
       "      <th>Unnamed: 0</th>\n",
       "      <th>parcelid</th>\n",
       "      <th>bathroomcnt</th>\n",
       "      <th>bedroomcnt</th>\n",
       "      <th>calculatedfinishedsquarefeet</th>\n",
       "      <th>fips</th>\n",
       "      <th>latitude</th>\n",
       "      <th>longitude</th>\n",
       "      <th>lotsizesquarefeet</th>\n",
       "      <th>rawcensustractandblock</th>\n",
       "      <th>...</th>\n",
       "      <th>roomcnt</th>\n",
       "      <th>yearbuilt</th>\n",
       "      <th>structuretaxvaluedollarcnt</th>\n",
       "      <th>taxvaluedollarcnt</th>\n",
       "      <th>assessmentyear</th>\n",
       "      <th>landtaxvaluedollarcnt</th>\n",
       "      <th>taxamount</th>\n",
       "      <th>logerror</th>\n",
       "      <th>transactiondate</th>\n",
       "      <th>county</th>\n",
       "    </tr>\n",
       "  </thead>\n",
       "  <tbody>\n",
       "    <tr>\n",
       "      <th>12066</th>\n",
       "      <td>12066</td>\n",
       "      <td>11007891</td>\n",
       "      <td>3.0</td>\n",
       "      <td>4.0</td>\n",
       "      <td>1692.0</td>\n",
       "      <td>6037.0</td>\n",
       "      <td>34324127.0</td>\n",
       "      <td>-118407459.0</td>\n",
       "      <td>12154.0</td>\n",
       "      <td>6.037106e+07</td>\n",
       "      <td>...</td>\n",
       "      <td>0.0</td>\n",
       "      <td>1973.0</td>\n",
       "      <td>130847.0</td>\n",
       "      <td>348926.0</td>\n",
       "      <td>2016.0</td>\n",
       "      <td>218079.0</td>\n",
       "      <td>4454.89</td>\n",
       "      <td>0.919024</td>\n",
       "      <td>2017-02-24</td>\n",
       "      <td>Los_Angeles</td>\n",
       "    </tr>\n",
       "  </tbody>\n",
       "</table>\n",
       "<p>1 rows × 23 columns</p>\n",
       "</div>"
      ],
      "text/plain": [
       "       Unnamed: 0  parcelid  bathroomcnt  bedroomcnt  \\\n",
       "12066       12066  11007891          3.0         4.0   \n",
       "\n",
       "       calculatedfinishedsquarefeet    fips    latitude    longitude  \\\n",
       "12066                        1692.0  6037.0  34324127.0 -118407459.0   \n",
       "\n",
       "       lotsizesquarefeet  rawcensustractandblock  ...  roomcnt  yearbuilt  \\\n",
       "12066            12154.0            6.037106e+07  ...      0.0     1973.0   \n",
       "\n",
       "       structuretaxvaluedollarcnt  taxvaluedollarcnt  assessmentyear  \\\n",
       "12066                    130847.0           348926.0          2016.0   \n",
       "\n",
       "       landtaxvaluedollarcnt  taxamount  logerror  transactiondate  \\\n",
       "12066               218079.0    4454.89  0.919024       2017-02-24   \n",
       "\n",
       "            county  \n",
       "12066  Los_Angeles  \n",
       "\n",
       "[1 rows x 23 columns]"
      ]
     },
     "execution_count": 2,
     "metadata": {},
     "output_type": "execute_result"
    }
   ],
   "source": [
    "df = wz()\n",
    "df.sample()"
   ]
  },
  {
   "cell_type": "code",
   "execution_count": 3,
   "id": "e15c93fd",
   "metadata": {},
   "outputs": [
    {
     "data": {
      "text/plain": [
       "0    0.025595\n",
       "1    0.055619\n",
       "2    0.005383\n",
       "3   -0.103410\n",
       "4    0.006940\n",
       "Name: logerror, dtype: float64"
      ]
     },
     "execution_count": 3,
     "metadata": {},
     "output_type": "execute_result"
    }
   ],
   "source": [
    "df.logerror.head()"
   ]
  },
  {
   "cell_type": "code",
   "execution_count": 4,
   "id": "db1e9214",
   "metadata": {
    "scrolled": true
   },
   "outputs": [
    {
     "data": {
      "text/plain": [
       "(69729, 23)"
      ]
     },
     "execution_count": 4,
     "metadata": {},
     "output_type": "execute_result"
    }
   ],
   "source": [
    "df.shape"
   ]
  },
  {
   "cell_type": "code",
   "execution_count": 5,
   "id": "e4cf2a4e",
   "metadata": {},
   "outputs": [
    {
     "data": {
      "text/plain": [
       "Unnamed: 0                      0\n",
       "parcelid                        0\n",
       "bathroomcnt                     0\n",
       "bedroomcnt                      0\n",
       "calculatedfinishedsquarefeet    0\n",
       "fips                            0\n",
       "latitude                        0\n",
       "longitude                       0\n",
       "lotsizesquarefeet               0\n",
       "rawcensustractandblock          0\n",
       "regionidcity                    0\n",
       "regionidcounty                  0\n",
       "regionidzip                     0\n",
       "roomcnt                         0\n",
       "yearbuilt                       0\n",
       "structuretaxvaluedollarcnt      0\n",
       "taxvaluedollarcnt               0\n",
       "assessmentyear                  0\n",
       "landtaxvaluedollarcnt           0\n",
       "taxamount                       0\n",
       "logerror                        0\n",
       "transactiondate                 0\n",
       "county                          0\n",
       "dtype: int64"
      ]
     },
     "execution_count": 5,
     "metadata": {},
     "output_type": "execute_result"
    }
   ],
   "source": [
    "df.isna().sum()"
   ]
  },
  {
   "cell_type": "markdown",
   "id": "3b7d7408",
   "metadata": {},
   "source": [
    "1. What is the distribution of each of the variables? This is important as we move forward into testing and modeling.\n",
    "\n",
    "2. Is logerror significantly different for homes older than 33 years?\n",
    "\n",
    "3. Is logerror significantly different for properties in LA County vs Orange County vs Ventura County?\n",
    "\n",
    "4. Is log error significantly differenmt for homes with more than 4 rooms?"
   ]
  },
  {
   "cell_type": "code",
   "execution_count": 6,
   "id": "97dca669",
   "metadata": {},
   "outputs": [],
   "source": [
    "# Split data \n",
    " # split the data in train, validate and test\n",
    "train, test = train_test_split(df, train_size = 0.8, random_state = 123)\n",
    "train, validate = train_test_split(train, train_size = 0.75, random_state = 123)"
   ]
  },
  {
   "cell_type": "code",
   "execution_count": 7,
   "id": "f61f1fa4",
   "metadata": {},
   "outputs": [
    {
     "data": {
      "text/plain": [
       "((41837, 23), (13946, 23), (13946, 23))"
      ]
     },
     "execution_count": 7,
     "metadata": {},
     "output_type": "execute_result"
    }
   ],
   "source": [
    "train.shape, test.shape, validate.shape"
   ]
  },
  {
   "cell_type": "markdown",
   "id": "b729ee5e",
   "metadata": {},
   "source": [
    "## 1. What is the distribution of each of the variables? This is important as we move forward into testing and modeling.ual\n",
    "\n"
   ]
  },
  {
   "cell_type": "code",
   "execution_count": 8,
   "id": "4b0b4e36",
   "metadata": {
    "scrolled": true
   },
   "outputs": [
    {
     "data": {
      "image/png": "[encoded data removed]",
      "text/plain": [
       "<Figure size 288x144 with 1 Axes>"
      ]
     },
     "metadata": {
      "needs_background": "light"
     },
     "output_type": "display_data"
    },
    {
     "data": {
      "image/png": "[encoded data removed]",
      "text/plain": [
       "<Figure size 288x144 with 1 Axes>"
      ]
     },
     "metadata": {
      "needs_background": "light"
     },
     "output_type": "display_data"
    },
    {
     "data": {
      "image/png": "[encoded data removed]",
      "text/plain": [
       "<Figure size 288x144 with 1 Axes>"
      ]
     },
     "metadata": {
      "needs_background": "light"
     },
     "output_type": "display_data"
    },
    {
     "data": {
      "image/png": "[encoded data removed]",
      "text/plain": [
       "<Figure size 288x144 with 1 Axes>"
      ]
     },
     "metadata": {
      "needs_background": "light"
     },
     "output_type": "display_data"
    },
    {
     "data": {
      "image/png": "[encoded data removed]",
      "text/plain": [
       "<Figure size 288x144 with 1 Axes>"
      ]
     },
     "metadata": {
      "needs_background": "light"
     },
     "output_type": "display_data"
    },
    {
     "data": {
      "image/png": "[encoded data removed]",
      "text/plain": [
       "<Figure size 288x144 with 1 Axes>"
      ]
     },
     "metadata": {
      "needs_background": "light"
     },
     "output_type": "display_data"
    },
    {
     "data": {
      "image/png": "[encoded data removed]",
      "text/plain": [
       "<Figure size 288x144 with 1 Axes>"
      ]
     },
     "metadata": {
      "needs_background": "light"
     },
     "output_type": "display_data"
    },
    {
     "data": {
      "image/png": "[encoded data removed]",
      "text/plain": [
       "<Figure size 288x144 with 1 Axes>"
      ]
     },
     "metadata": {
      "needs_background": "light"
     },
     "output_type": "display_data"
    },
    {
     "data": {
      "image/png": "[encoded data removed]",
      "text/plain": [
       "<Figure size 288x144 with 1 Axes>"
      ]
     },
     "metadata": {
      "needs_background": "light"
     },
     "output_type": "display_data"
    },
    {
     "data": {
      "image/png": "[encoded data removed]",
      "text/plain": [
       "<Figure size 288x144 with 1 Axes>"
      ]
     },
     "metadata": {
      "needs_background": "light"
     },
     "output_type": "display_data"
    },
    {
     "data": {
      "image/png": "[encoded data removed]",
      "text/plain": [
       "<Figure size 288x144 with 1 Axes>"
      ]
     },
     "metadata": {
      "needs_background": "light"
     },
     "output_type": "display_data"
    },
    {
     "data": {
      "image/png": "[encoded data removed]",
      "text/plain": [
       "<Figure size 288x144 with 1 Axes>"
      ]
     },
     "metadata": {
      "needs_background": "light"
     },
     "output_type": "display_data"
    },
    {
     "data": {
      "image/png": "[encoded data removed]",
      "text/plain": [
       "<Figure size 288x144 with 1 Axes>"
      ]
     },
     "metadata": {
      "needs_background": "light"
     },
     "output_type": "display_data"
    },
    {
     "data": {
      "image/png": "[encoded data removed]",
      "text/plain": [
       "<Figure size 288x144 with 1 Axes>"
      ]
     },
     "metadata": {
      "needs_background": "light"
     },
     "output_type": "display_data"
    },
    {
     "data": {
      "image/png": "[encoded data removed]",
      "text/plain": [
       "<Figure size 288x144 with 1 Axes>"
      ]
     },
     "metadata": {
      "needs_background": "light"
     },
     "output_type": "display_data"
    },
    {
     "data": {
      "image/png": "[encoded data removed]",
      "text/plain": [
       "<Figure size 288x144 with 1 Axes>"
      ]
     },
     "metadata": {
      "needs_background": "light"
     },
     "output_type": "display_data"
    },
    {
     "data": {
      "image/png": "[encoded data removed]",
      "text/plain": [
       "<Figure size 288x144 with 1 Axes>"
      ]
     },
     "metadata": {
      "needs_background": "light"
     },
     "output_type": "display_data"
    },
    {
     "data": {
      "image/png": "[encoded data removed]",
      "text/plain": [
       "<Figure size 288x144 with 1 Axes>"
      ]
     },
     "metadata": {
      "needs_background": "light"
     },
     "output_type": "display_data"
    },
    {
     "data": {
      "image/png": "[encoded data removed]",
      "text/plain": [
       "<Figure size 288x144 with 1 Axes>"
      ]
     },
     "metadata": {
      "needs_background": "light"
     },
     "output_type": "display_data"
    },
    {
     "data": {
      "image/png": "[encoded data removed]",
      "text/plain": [
       "<Figure size 288x144 with 1 Axes>"
      ]
     },
     "metadata": {
      "needs_background": "light"
     },
     "output_type": "display_data"
    },
    {
     "data": {
      "image/png": "[encoded data removed]",
      "text/plain": [
       "<Figure size 288x144 with 1 Axes>"
      ]
     },
     "metadata": {
      "needs_background": "light"
     },
     "output_type": "display_data"
    },
    {
     "data": {
      "image/png": "[encoded data removed]",
      "text/plain": [
       "<Figure size 288x144 with 1 Axes>"
      ]
     },
     "metadata": {
      "needs_background": "light"
     },
     "output_type": "display_data"
    },
    {
     "data": {
      "image/png": "[encoded data removed]",
      "text/plain": [
       "<Figure size 288x144 with 1 Axes>"
      ]
     },
     "metadata": {
      "needs_background": "light"
     },
     "output_type": "display_data"
    }
   ],
   "source": [
    "for col in train.columns:\n",
    "    plt.figure(figsize=(4,2))\n",
    "    plt.hist(train[col])\n",
    "    plt.title(col)\n",
    "    plt.show()"
   ]
  },
  {
   "cell_type": "markdown",
   "id": "d791f122",
   "metadata": {},
   "source": [
    "- Data is close to normally distributed\n",
    "- Los Angeles county has more data points than the other 2 counties convined "
   ]
  },
  {
   "cell_type": "markdown",
   "id": "efd9716a",
   "metadata": {},
   "source": [
    "## 2. Is logerror significantly different for homes older than 33 years?"
   ]
  },
  {
   "cell_type": "markdown",
   "id": "7e4221b6",
   "metadata": {},
   "source": [
    "$H_0$: Means of the logerror for older houses than 33 == to newer.\n",
    "\n",
    "$H_a$: Means of the logerror for older houses != newer houses."
   ]
  },
  {
   "cell_type": "code",
   "execution_count": 9,
   "id": "376e6f5e",
   "metadata": {},
   "outputs": [
    {
     "name": "stdout",
     "output_type": "stream",
     "text": [
      "0.028437894704731844\n",
      "0.026424740581395666\n"
     ]
    }
   ],
   "source": [
    "print(train[train.yearbuilt < 1989].logerror.var())\n",
    "print(train[train.yearbuilt >= 1898].logerror.var())"
   ]
  },
  {
   "cell_type": "code",
   "execution_count": 10,
   "id": "f449d16d",
   "metadata": {},
   "outputs": [],
   "source": [
    "f, p = stats.ttest_ind(train[train.yearbuilt < 1989].logerror, \\\n",
    "                       train[train.yearbuilt >= 1898].logerror, equal_var=False)\n"
   ]
  },
  {
   "cell_type": "code",
   "execution_count": 11,
   "id": "f6232125",
   "metadata": {},
   "outputs": [
    {
     "name": "stdout",
     "output_type": "stream",
     "text": [
      "We fail to reject Means of the logerror for older houses than 33\n"
     ]
    }
   ],
   "source": [
    "if p < alpha:\n",
    "    print(\"We reject that Means of the logerror for older houses than 33\")\n",
    "else:\n",
    "    print(\"We fail to reject Means of the logerror for older houses than 33\")"
   ]
  },
  {
   "cell_type": "markdown",
   "id": "2ca52155",
   "metadata": {},
   "source": [
    "## 3. Is logerror significantly different for properties in LA County vs Orange County vs Ventura County? \n",
    "\n",
    "$H_0$: Means of the logerror for the counties are all equal.\n",
    "\n",
    "$H_a$: Means of the logerror for the counties are NOT all equal."
   ]
  },
  {
   "cell_type": "code",
   "execution_count": 12,
   "id": "a47ba319",
   "metadata": {},
   "outputs": [],
   "source": [
    "f, p = stats.f_oneway(train[train.county == 'Los_Angeles'].logerror, train[train.county == 'Orange'].logerror, train[train.county == 'Ventura'].logerror)\n"
   ]
  },
  {
   "cell_type": "code",
   "execution_count": 13,
   "id": "affd264e",
   "metadata": {},
   "outputs": [
    {
     "name": "stdout",
     "output_type": "stream",
     "text": [
      "We reject $H_0$\n"
     ]
    }
   ],
   "source": [
    "if p < alpha:\n",
    "    print(\"We reject $H_0$\")\n",
    "else:\n",
    "    print(\"We fail to reject $H_0$\")"
   ]
  },
  {
   "cell_type": "markdown",
   "id": "146cccd9",
   "metadata": {},
   "source": [
    "# 4. Is log error significantly differenmt for homes with more than 4 rooms? \n",
    "$H_0$: Means of the logerror for houses with rooms < 4.\n",
    "\n",
    "$H_a$: Means of the logerror for houses with rooms >= 4."
   ]
  },
  {
   "cell_type": "code",
   "execution_count": 16,
   "id": "ea3970e2",
   "metadata": {},
   "outputs": [
    {
     "name": "stdout",
     "output_type": "stream",
     "text": [
      "0.025685210892059118\n",
      "0.028829737421259088\n"
     ]
    }
   ],
   "source": [
    "print(train[train.bedroomcnt < 4].logerror.var())\n",
    "print(train[train.bedroomcnt >= 4].logerror.var())"
   ]
  },
  {
   "cell_type": "code",
   "execution_count": 17,
   "id": "2996aec8",
   "metadata": {},
   "outputs": [],
   "source": [
    "f, p = stats.ttest_ind(train[train.bedroomcnt < 4].logerror, \\\n",
    "                       train[train.bedroomcnt >= 4].logerror, equal_var=False)\n"
   ]
  },
  {
   "cell_type": "code",
   "execution_count": 19,
   "id": "e9d56e05",
   "metadata": {},
   "outputs": [
    {
     "name": "stdout",
     "output_type": "stream",
     "text": [
      "We reject $H_0$\n"
     ]
    }
   ],
   "source": [
    "if p < alpha:\n",
    "    print(\"We reject $H_0$\")\n",
    "else:\n",
    "    print(\"We fail to reject $H_0$\")"
   ]
  },
  {
   "cell_type": "code",
   "execution_count": null,
   "id": "23e0b87d",
   "metadata": {},
   "outputs": [],
   "source": []
  }
 ],
 "metadata": {
  "kernelspec": {
   "display_name": "Python 3.8.8 64-bit ('base': conda)",
   "language": "python",
   "name": "python388jvsc74a57bd038cca0c38332a56087b24af0bc80247f4fced29cb4f7f437d91dc159adec9c4e"
  },
  "language_info": {
   "codemirror_mode": {
    "name": "ipython",
    "version": 3
   },
   "file_extension": ".py",
   "mimetype": "text/x-python",
   "name": "python",
   "nbconvert_exporter": "python",
   "pygments_lexer": "ipython3",
   "version": "3.8.8"
  }
 },
 "nbformat": 4,
 "nbformat_minor": 5
}
