{
 "cells": [
  {
   "cell_type": "code",
   "execution_count": 1,
   "id": "2a8aa253",
   "metadata": {},
   "outputs": [],
   "source": [
    "import numpy as np\n",
    "import pandas as pd\n",
    "import matplotlib.pyplot as plt\n",
    "import seaborn as sns\n",
    "\n",
    "from sklearn.model_selection import train_test_split\n",
    "from sklearn.preprocessing import MinMaxScaler\n",
    "\n",
    "from wrangle_zillow import wrangle_zillow as wz \n",
    "\n",
    "from scipy import stats\n",
    "alpha = 0.5"
   ]
  },
  {
   "cell_type": "markdown",
   "id": "2bfa7850",
   "metadata": {},
   "source": [
    "1 Ask at least 5 questions about the data, keeping in mind that your target variable is logerror. e.g. Is logerror significantly different for properties in LA County vs Orange County vs Ventura County?"
   ]
  },
  {
   "cell_type": "code",
   "execution_count": 2,
   "id": "6839cb40",
   "metadata": {
    "scrolled": true
   },
   "outputs": [
    {
     "name": "stderr",
     "output_type": "stream",
     "text": [
      "/opt/homebrew/anaconda3/lib/python3.8/site-packages/IPython/core/interactiveshell.py:3357: DtypeWarning: Columns (64) have mixed types.Specify dtype option on import or set low_memory=False.\n",
      "  if (await self.run_code(code, result,  async_=asy)):\n"
     ]
    },
    {
     "data": {
      "text/html": [
       "<div>\n",
       "<style scoped>\n",
       "    .dataframe tbody tr th:only-of-type {\n",
       "        vertical-align: middle;\n",
       "    }\n",
       "\n",
       "    .dataframe tbody tr th {\n",
       "        vertical-align: top;\n",
       "    }\n",
       "\n",
       "    .dataframe thead th {\n",
       "        text-align: right;\n",
       "    }\n",
       "</style>\n",
       "<table border=\"1\" class=\"dataframe\">\n",
       "  <thead>\n",
       "    <tr style=\"text-align: right;\">\n",
       "      <th></th>\n",
       "      <th>Unnamed: 0</th>\n",
       "      <th>parcelid</th>\n",
       "      <th>bathroomcnt</th>\n",
       "      <th>bedroomcnt</th>\n",
       "      <th>calculatedfinishedsquarefeet</th>\n",
       "      <th>fips</th>\n",
       "      <th>latitude</th>\n",
       "      <th>longitude</th>\n",
       "      <th>lotsizesquarefeet</th>\n",
       "      <th>rawcensustractandblock</th>\n",
       "      <th>...</th>\n",
       "      <th>roomcnt</th>\n",
       "      <th>yearbuilt</th>\n",
       "      <th>structuretaxvaluedollarcnt</th>\n",
       "      <th>taxvaluedollarcnt</th>\n",
       "      <th>assessmentyear</th>\n",
       "      <th>landtaxvaluedollarcnt</th>\n",
       "      <th>taxamount</th>\n",
       "      <th>logerror</th>\n",
       "      <th>transactiondate</th>\n",
       "      <th>county</th>\n",
       "    </tr>\n",
       "  </thead>\n",
       "  <tbody>\n",
       "    <tr>\n",
       "      <th>22576</th>\n",
       "      <td>22576</td>\n",
       "      <td>11158482</td>\n",
       "      <td>2.0</td>\n",
       "      <td>2.0</td>\n",
       "      <td>1193.0</td>\n",
       "      <td>6037.0</td>\n",
       "      <td>34415400.0</td>\n",
       "      <td>-118516595.0</td>\n",
       "      <td>7313.0</td>\n",
       "      <td>6.037920e+07</td>\n",
       "      <td>...</td>\n",
       "      <td>0.0</td>\n",
       "      <td>2013.0</td>\n",
       "      <td>111526.0</td>\n",
       "      <td>317286.0</td>\n",
       "      <td>2016.0</td>\n",
       "      <td>205760.0</td>\n",
       "      <td>6304.49</td>\n",
       "      <td>0.018311</td>\n",
       "      <td>2017-03-31</td>\n",
       "      <td>Los_Angeles</td>\n",
       "    </tr>\n",
       "  </tbody>\n",
       "</table>\n",
       "<p>1 rows × 23 columns</p>\n",
       "</div>"
      ],
      "text/plain": [
       "       Unnamed: 0  parcelid  bathroomcnt  bedroomcnt  \\\n",
       "22576       22576  11158482          2.0         2.0   \n",
       "\n",
       "       calculatedfinishedsquarefeet    fips    latitude    longitude  \\\n",
       "22576                        1193.0  6037.0  34415400.0 -118516595.0   \n",
       "\n",
       "       lotsizesquarefeet  rawcensustractandblock  ...  roomcnt  yearbuilt  \\\n",
       "22576             7313.0            6.037920e+07  ...      0.0     2013.0   \n",
       "\n",
       "       structuretaxvaluedollarcnt  taxvaluedollarcnt  assessmentyear  \\\n",
       "22576                    111526.0           317286.0          2016.0   \n",
       "\n",
       "       landtaxvaluedollarcnt  taxamount  logerror  transactiondate  \\\n",
       "22576               205760.0    6304.49  0.018311       2017-03-31   \n",
       "\n",
       "            county  \n",
       "22576  Los_Angeles  \n",
       "\n",
       "[1 rows x 23 columns]"
      ]
     },
     "execution_count": 2,
     "metadata": {},
     "output_type": "execute_result"
    }
   ],
   "source": [
    "df = wz()\n",
    "df.sample()"
   ]
  },
  {
   "cell_type": "code",
   "execution_count": 3,
   "id": "d9900eba",
   "metadata": {},
   "outputs": [
    {
     "data": {
      "text/plain": [
       "0    0.025595\n",
       "1    0.055619\n",
       "2    0.005383\n",
       "3   -0.103410\n",
       "4    0.006940\n",
       "Name: logerror, dtype: float64"
      ]
     },
     "execution_count": 3,
     "metadata": {},
     "output_type": "execute_result"
    }
   ],
   "source": [
    "df.logerror.head()"
   ]
  },
  {
   "cell_type": "code",
   "execution_count": 4,
   "id": "6295332a",
   "metadata": {},
   "outputs": [
    {
     "data": {
      "text/plain": [
       "(69729, 23)"
      ]
     },
     "execution_count": 4,
     "metadata": {},
     "output_type": "execute_result"
    }
   ],
   "source": [
    "df.shape"
   ]
  },
  {
   "cell_type": "markdown",
   "id": "fe4009fe",
   "metadata": {},
   "source": [
    "1. What is the distribution of each of the variables? This is important as we move forward into testing and modeling.\n",
    "\n",
    "2. Does the spending score differ across gender?\n",
    "\n",
    "3. Is there a relationship between spending score and annual income? (Linear or otherwise).\n",
    "\n",
    "4. Is there a relationship between age and spending score? (Linear or otherwise)."
   ]
  },
  {
   "cell_type": "code",
   "execution_count": 5,
   "id": "053f6057",
   "metadata": {},
   "outputs": [
    {
     "ename": "SyntaxError",
     "evalue": "unexpected EOF while parsing (<ipython-input-5-6559498d7519>, line 4)",
     "output_type": "error",
     "traceback": [
      "\u001b[0;36m  File \u001b[0;32m\"<ipython-input-5-6559498d7519>\"\u001b[0;36m, line \u001b[0;32m4\u001b[0m\n\u001b[0;31m    train, validate = train_test_split(train, train_size = 0.75, random_state = 123\u001b[0m\n\u001b[0m                                                                                   ^\u001b[0m\n\u001b[0;31mSyntaxError\u001b[0m\u001b[0;31m:\u001b[0m unexpected EOF while parsing\n"
     ]
    }
   ],
   "source": [
    "# Split data \n",
    " # split the data in train, validate and test\n",
    "train, test = train_test_split(df, train_size = 0.8, random_state = 123)\n",
    "train, validate = train_test_split(train, train_size = 0.75, random_state = 123"
   ]
  },
  {
   "cell_type": "code",
   "execution_count": null,
   "id": "85557301",
   "metadata": {},
   "outputs": [],
   "source": [
    "train.shape, test.shape, validate.shape"
   ]
  },
  {
   "cell_type": "markdown",
   "id": "04b41885",
   "metadata": {},
   "source": [
    "## 1. What is the distribution of each of the variables? This is important as we move forward into testing and modeling.ual\n",
    "\n"
   ]
  },
  {
   "cell_type": "code",
   "execution_count": null,
   "id": "ecc332e9",
   "metadata": {},
   "outputs": [],
   "source": [
    "for col in train.columns:\n",
    "    plt.figure(figsize=(4,2))\n",
    "    plt.hist(train[col])\n",
    "    plt.title(col)\n",
    "    plt.show()"
   ]
  },
  {
   "cell_type": "code",
   "execution_count": null,
   "id": "d70ae4e9",
   "metadata": {},
   "outputs": [],
   "source": []
  },
  {
   "cell_type": "code",
   "execution_count": null,
   "id": "9959031e",
   "metadata": {},
   "outputs": [],
   "source": []
  }
 ],
 "metadata": {
  "kernelspec": {
   "display_name": "Python 3.8.8 64-bit ('base': conda)",
   "language": "python",
   "name": "python388jvsc74a57bd038cca0c38332a56087b24af0bc80247f4fced29cb4f7f437d91dc159adec9c4e"
  },
  "language_info": {
   "codemirror_mode": {
    "name": "ipython",
    "version": 3
   },
   "file_extension": ".py",
   "mimetype": "text/x-python",
   "name": "python",
   "nbconvert_exporter": "python",
   "pygments_lexer": "ipython3",
   "version": "3.8.8"
  }
 },
 "nbformat": 4,
 "nbformat_minor": 5
}
